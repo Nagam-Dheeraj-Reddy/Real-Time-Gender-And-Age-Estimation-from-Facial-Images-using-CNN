{
 "cells": [
  {
   "cell_type": "code",
   "execution_count": null,
   "id": "77017b58",
   "metadata": {
    "vscode": {
     "languageId": "plaintext"
    }
   },
   "outputs": [],
   "source": [
    "# =============================================\n",
    "# UTKFace Age & Gender Prediction (ResNet18)\n",
    "# =============================================\n",
    "\n",
    "!pip install torch torchvision opencv-python tqdm\n",
    "\n",
    "import os\n",
    "import cv2\n",
    "import torch\n",
    "import torch.nn as nn\n",
    "import torch.nn.functional as F\n",
    "import torch.optim as optim\n",
    "from torch.utils.data import Dataset, DataLoader, random_split\n",
    "from torchvision import transforms, models\n",
    "from tqdm import tqdm"
   ]
  },
  {
   "cell_type": "code",
   "execution_count": null,
   "id": "04b81b2a",
   "metadata": {
    "vscode": {
     "languageId": "plaintext"
    }
   },
   "outputs": [],
   "source": [
    "# ==========================\n",
    "# 1. Dataset Class\n",
    "# ==========================\n",
    "class UTKFaceDataset(Dataset):\n",
    "    def __init__(self, root_dir, transform=None):\n",
    "        self.root_dir = root_dir\n",
    "        self.image_files = [f for f in os.listdir(root_dir) if f.endswith(\".jpg\")]\n",
    "        self.transform = transform\n",
    "\n",
    "    def __len__(self):\n",
    "        return len(self.image_files)\n",
    "\n",
    "    def __getitem__(self, idx):\n",
    "        img_name = self.image_files[idx]\n",
    "        path = os.path.join(self.root_dir, img_name)\n",
    "        image = cv2.imread(path)\n",
    "        image = cv2.cvtColor(image, cv2.COLOR_BGR2RGB)\n",
    "\n",
    "        # Parse labels\n",
    "        age, gender, *_ = img_name.split(\"_\")\n",
    "        age = int(age)\n",
    "        gender = int(gender)\n",
    "\n",
    "        if self.transform:\n",
    "            image = self.transform(image)\n",
    "\n",
    "        return image, torch.tensor(age, dtype=torch.float32), torch.tensor(gender, dtype=torch.long)"
   ]
  },
  {
   "cell_type": "code",
   "execution_count": null,
   "id": "6f64a16b",
   "metadata": {
    "vscode": {
     "languageId": "plaintext"
    }
   },
   "outputs": [],
   "source": [
    "# ==========================\n",
    "# 2. Transformations\n",
    "# ==========================\n",
    "transform = transforms.Compose([\n",
    "    transforms.ToPILImage(),\n",
    "    transforms.Resize((224, 224)),   # ResNet expects 224x224\n",
    "    transforms.ToTensor(),\n",
    "    transforms.Normalize(mean=[0.485, 0.456, 0.406],  # Imagenet normalization\n",
    "                         std=[0.229, 0.224, 0.225])\n",
    "])"
   ]
  },
  {
   "cell_type": "code",
   "execution_count": null,
   "id": "c0334714",
   "metadata": {
    "vscode": {
     "languageId": "plaintext"
    }
   },
   "outputs": [],
   "source": [
    "# ==========================\n",
    "# 3. Load Dataset\n",
    "# ==========================\n",
    "\n",
    "dataset_path = \"/content/drive/MyDrive/Age_Gender_Detection/UTKFace_5k\"\n",
    "\n",
    "dataset = UTKFaceDataset(dataset_path, transform=transform)\n",
    "\n",
    "# Train-test split\n",
    "train_size = int(0.8 * len(dataset))\n",
    "test_size = len(dataset) - train_size\n",
    "train_dataset, test_dataset = random_split(dataset, [train_size, test_size])\n",
    "\n",
    "train_loader = DataLoader(train_dataset, batch_size=64, shuffle=True)\n",
    "test_loader = DataLoader(test_dataset, batch_size=64, shuffle=False)\n",
    "\n",
    "print(f\"Total: {len(dataset)}, Train: {len(train_dataset)}, Test: {len(test_dataset)}\")"
   ]
  },
  {
   "cell_type": "code",
   "execution_count": null,
   "id": "f63a58ca",
   "metadata": {
    "vscode": {
     "languageId": "plaintext"
    }
   },
   "outputs": [],
   "source": [
    "# ==========================\n",
    "# 4. ResNet18 Model with Two Heads\n",
    "# ==========================\n",
    "resnet18 = models.resnet18(pretrained=True)\n",
    "\n",
    "# Freeze all layers\n",
    "for param in resnet18.parameters():\n",
    "    param.requires_grad = False\n",
    "\n",
    "# Unfreeze last block for fine-tuning\n",
    "for param in resnet18.layer4.parameters():\n",
    "    param.requires_grad = True\n",
    "\n",
    "class AgeGenderResNet(nn.Module):\n",
    "    def __init__(self, backbone):\n",
    "        super(AgeGenderResNet, self).__init__()\n",
    "        self.backbone = nn.Sequential(*list(backbone.children())[:-1])  # remove final fc\n",
    "        in_features = backbone.fc.in_features  # 512 for resnet18\n",
    "\n",
    "        # Shared fully connected layer\n",
    "        self.fc = nn.Linear(in_features, 256)\n",
    "\n",
    "        # Heads\n",
    "        self.age_head = nn.Linear(256, 1)        # Regression\n",
    "        self.gender_head = nn.Linear(256, 2)     # Classification\n",
    "\n",
    "    def forward(self, x):\n",
    "        x = self.backbone(x)          # [B, 512, 1, 1]\n",
    "        x = x.view(x.size(0), -1)     # flatten\n",
    "        x = F.relu(self.fc(x))\n",
    "\n",
    "        age = self.age_head(x)\n",
    "        gender = self.gender_head(x)\n",
    "        return age, gender\n"
   ]
  },
  {
   "cell_type": "code",
   "execution_count": null,
   "id": "56382485",
   "metadata": {
    "vscode": {
     "languageId": "plaintext"
    }
   },
   "outputs": [],
   "source": [
    "# ==========================\n",
    "# 5. Training Setup\n",
    "# ==========================\n",
    "device = torch.device(\"cuda\" if torch.cuda.is_available() else \"cpu\")\n",
    "model = AgeGenderResNet(resnet18).to(device)\n",
    "\n",
    "criterion_age = nn.MSELoss()\n",
    "criterion_gender = nn.CrossEntropyLoss()\n",
    "optimizer = optim.Adam(filter(lambda p: p.requires_grad, model.parameters()), lr=0.0005)"
   ]
  },
  {
   "cell_type": "code",
   "execution_count": null,
   "id": "d042caa0",
   "metadata": {
    "vscode": {
     "languageId": "plaintext"
    }
   },
   "outputs": [],
   "source": [
    "# ==========================\n",
    "# 6. Training Loop\n",
    "# ==========================\n",
    "EPOCHS = 5\n",
    "for epoch in range(EPOCHS):\n",
    "    model.train()\n",
    "    total_loss = 0\n",
    "    for imgs, ages, genders in tqdm(train_loader, desc=f\"Epoch {epoch+1}/{EPOCHS}\"):\n",
    "        imgs, ages, genders = imgs.to(device), ages.to(device), genders.to(device)\n",
    "\n",
    "        optimizer.zero_grad()\n",
    "        age_pred, gender_pred = model(imgs)\n",
    "\n",
    "        loss_age = criterion_age(age_pred.squeeze(), ages)\n",
    "        loss_gender = criterion_gender(gender_pred, genders)\n",
    "        loss = loss_age + loss_gender\n",
    "\n",
    "        loss.backward()\n",
    "        optimizer.step()\n",
    "\n",
    "        total_loss += loss.item()\n",
    "\n",
    "    print(f\"Epoch {epoch+1}, Loss: {total_loss/len(train_loader):.4f}\")"
   ]
  },
  {
   "cell_type": "code",
   "execution_count": null,
   "id": "121e9ffa",
   "metadata": {
    "vscode": {
     "languageId": "plaintext"
    }
   },
   "outputs": [],
   "source": [
    "# ==========================\n",
    "# 7. Evaluation\n",
    "# ==========================\n",
    "model.eval()\n",
    "correct_gender, total = 0, 0\n",
    "age_mae = 0\n",
    "\n",
    "with torch.no_grad():\n",
    "    for imgs, ages, genders in test_loader:\n",
    "        imgs, ages, genders = imgs.to(device), ages.to(device), genders.to(device)\n",
    "        age_pred, gender_pred = model(imgs)\n",
    "\n",
    "        # Gender accuracy\n",
    "        predicted_gender = torch.argmax(gender_pred, dim=1)\n",
    "        correct_gender += (predicted_gender == genders).sum().item()\n",
    "        total += genders.size(0)\n",
    "\n",
    "        # Age error (MAE)\n",
    "        age_mae += torch.abs(age_pred.squeeze() - ages).sum().item()\n",
    "\n",
    "gender_acc = 100 * correct_gender / total\n",
    "age_mae = age_mae / total\n",
    "\n",
    "print(f\"✅ Gender Accuracy: {gender_acc:.2f}%\")\n",
    "print(f\"✅ Age MAE: {age_mae:.2f} years\")"
   ]
  },
  {
   "cell_type": "code",
   "execution_count": null,
   "id": "221ac25a",
   "metadata": {
    "vscode": {
     "languageId": "plaintext"
    }
   },
   "outputs": [],
   "source": [
    "# ==========================\n",
    "# 8. Save Model\n",
    "# ==========================\n",
    "torch.save(model.state_dict(), \"age_gender_resnet18.pth\")\n",
    "print(\"Model saved as age_gender_resnet18.pth\")"
   ]
  }
 ],
 "metadata": {
  "language_info": {
   "name": "python"
  }
 },
 "nbformat": 4,
 "nbformat_minor": 5
}
